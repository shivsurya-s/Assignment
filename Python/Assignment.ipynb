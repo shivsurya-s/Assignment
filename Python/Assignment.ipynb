{
 "cells": [
  {
   "cell_type": "code",
   "execution_count": 1,
   "id": "5b922540",
   "metadata": {},
   "outputs": [
    {
     "name": "stdout",
     "output_type": "stream",
     "text": [
      "Enter a number:10\n",
      "0\n",
      "1\n",
      "1\n",
      "2\n",
      "3\n",
      "5\n",
      "8\n",
      "13\n",
      "21\n",
      "34\n"
     ]
    }
   ],
   "source": [
    "#1.Fibonacci series\n",
    "a = 0\n",
    "b = 1\n",
    "n=int(input('Enter a number:'))\n",
    "print(a)\n",
    "print(b)\n",
    "for i in range(2,n):\n",
    "    c = a+b\n",
    "    a = b\n",
    "    b = c\n",
    "    print(c)"
   ]
  },
  {
   "cell_type": "code",
   "execution_count": 10,
   "id": "09adb67d",
   "metadata": {
    "scrolled": true
   },
   "outputs": [
    {
     "name": "stdout",
     "output_type": "stream",
     "text": [
      "15 81 78\n",
      "3\n"
     ]
    }
   ],
   "source": [
    "#2.HCF\n",
    "from math import gcd\n",
    "a = input()\n",
    "a=a.split(' ')\n",
    "b=[]\n",
    "for i in a:\n",
    "    b.append(int(i))\n",
    "if len(b) ==0:\n",
    "    print(b[0])\n",
    "div = gcd(b[0], b[1])\n",
    "if len(b) == 2:\n",
    "    print(div)\n",
    "for i in range(1, len(b) - 1):\n",
    "      div = gcd(div, b[i + 1])\n",
    "if div == 1:\n",
    "    print(div)\n",
    "print(div)"
   ]
  },
  {
   "cell_type": "code",
   "execution_count": null,
   "id": "33df64b9",
   "metadata": {},
   "outputs": [],
   "source": [
    "#3.LCM"
   ]
  },
  {
   "cell_type": "code",
   "execution_count": 3,
   "id": "6355d3ad",
   "metadata": {},
   "outputs": [
    {
     "name": "stdout",
     "output_type": "stream",
     "text": [
      "3\n"
     ]
    }
   ],
   "source": [
    "#4\n",
    "a= [1,1,1,2,2,1,4,4,5,3,6,2,2,2,2,4]\n",
    "len(a)\n",
    "d=[]\n",
    "for index in range(0,len(a)-1):\n",
    "    if a[index] == a[index+1]:\n",
    "        d.append(a[index])\n",
    "d=len(list(set(d)))\n",
    "print(d)"
   ]
  },
  {
   "cell_type": "code",
   "execution_count": 2,
   "id": "14df69be",
   "metadata": {},
   "outputs": [
    {
     "name": "stdout",
     "output_type": "stream",
     "text": [
      "Enter a number:12234\n",
      "Reverse of Integer 43221\n"
     ]
    }
   ],
   "source": [
    "#5.Reversing of Integer\n",
    "a=int(input('Enter a number:'))\n",
    "revsed = 0\n",
    "while a > 0:\n",
    "    r= a % 10\n",
    "    revsed = (revsed*10) + r\n",
    "    a = a // 10\n",
    "print('Reverse of Integer',revsed) "
   ]
  },
  {
   "cell_type": "code",
   "execution_count": null,
   "id": "d4486866",
   "metadata": {},
   "outputs": [],
   "source": [
    "#6.Sorting\n",
    "list1 = input()\n",
    "list2 = list(list1)\n",
    "flag = 0\n",
    "i = 1\n",
    "while i < len(list1):\n",
    "    if(list1[i] < list1[i - 1]):\n",
    "        flag = 1\n",
    "    i += 1\n",
    "if (not flag) :\n",
    "    print (\"True\")\n",
    "else :\n",
    "    print (\"False\")"
   ]
  },
  {
   "cell_type": "code",
   "execution_count": 3,
   "id": "4eb11020",
   "metadata": {},
   "outputs": [
    {
     "name": "stdout",
     "output_type": "stream",
     "text": [
      "89\n",
      "5340.0\n"
     ]
    }
   ],
   "source": [
    "#8. Minutes to secs\n",
    "def mins_to_secs():\n",
    "    minutes = float(input())\n",
    "    seconds = minutes*60\n",
    "    print(seconds)\n",
    "mins_to_secs()"
   ]
  },
  {
   "cell_type": "code",
   "execution_count": 4,
   "id": "5fc05480",
   "metadata": {},
   "outputs": [
    {
     "name": "stdout",
     "output_type": "stream",
     "text": [
      "89\n",
      "5340\n"
     ]
    }
   ],
   "source": [
    "#8.Minutes to secs \n",
    "mins=int(input())\n",
    "for i in range (mins):\n",
    "    secs = mins*60\n",
    "print(secs)"
   ]
  },
  {
   "cell_type": "code",
   "execution_count": 3,
   "id": "a58cd71a",
   "metadata": {},
   "outputs": [
    {
     "data": {
      "text/plain": [
       "23"
      ]
     },
     "execution_count": 3,
     "metadata": {},
     "output_type": "execute_result"
    }
   ],
   "source": [
    "#Convert age to years\n",
    "from datetime import date\n",
    "def age_to_years(dob):\n",
    "    current_date=date.today()\n",
    "    age = current_date.year - dob.year -((current_date.month, current_date.day) <\n",
    "         (dob.month, dob.day))\n",
    "    return age\n",
    "age_to_years(date(1998, 9, 30))"
   ]
  }
 ],
 "metadata": {
  "kernelspec": {
   "display_name": "Python 3 (ipykernel)",
   "language": "python",
   "name": "python3"
  },
  "language_info": {
   "codemirror_mode": {
    "name": "ipython",
    "version": 3
   },
   "file_extension": ".py",
   "mimetype": "text/x-python",
   "name": "python",
   "nbconvert_exporter": "python",
   "pygments_lexer": "ipython3",
   "version": "3.9.7"
  }
 },
 "nbformat": 4,
 "nbformat_minor": 5
}
